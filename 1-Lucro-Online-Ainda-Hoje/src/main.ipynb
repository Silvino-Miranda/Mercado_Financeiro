{
 "cells": [
  {
   "cell_type": "code",
   "execution_count": 2,
   "metadata": {},
   "outputs": [],
   "source": [
    "import pandas as pd\n",
    "import matplotlib.pyplot as plt\n"
   ]
  },
  {
   "cell_type": "code",
   "execution_count": 3,
   "metadata": {},
   "outputs": [],
   "source": [
    "# from data.indicator import IndicatorCalculator\n",
    "# from data.data_save import DataSave\n",
    "# from data.data_loader import DataLoader\n",
    "from backtest_ma200 import BacktestMA200"
   ]
  },
  {
   "cell_type": "code",
   "execution_count": 13,
   "metadata": {},
   "outputs": [],
   "source": [
    "tickers = [\n",
    "    \"BTC-USD\",\n",
    "    # \"SOL-USD\",\n",
    "    # \"NMR-USD\",\n",
    "    # \"FET-USD\",\n",
    "    # \"AVAX-USD\",\n",
    "    # \"ADA-USD\",\n",
    "    # \"LINK-USD\",\n",
    "    # \"SNX-USD\",\n",
    "    # \"ETH-USD\",\n",
    "    # \"MATIC-USD\",\n",
    "    # \"RUNE-USD\",\n",
    "    # \"PENDLE-USD\",\n",
    "    # \"UNI-USD\",\n",
    "    # \"STX-USD\",\n",
    "    # \"IMX-USD\",\n",
    "    # \"MKR-USD\",\n",
    "]"
   ]
  },
  {
   "cell_type": "code",
   "execution_count": 29,
   "metadata": {},
   "outputs": [
    {
     "name": "stdout",
     "output_type": "stream",
     "text": [
      "Dados carregados do arquivo data\\BTC-USD_2022-10-31_to_2024-10-31_1d.\n",
      "                          Date         Close       SMA_200   Sinal\n",
      "512  2024-10-11 00:00:00+00:00  60046.125000  62197.708867  Compra\n",
      "513  2024-10-12 00:00:00+00:00  62443.269531  62163.247168  Espera\n",
      "514  2024-10-13 00:00:00+00:00  62035.636719  62131.515703  Compra\n",
      "515  2024-10-14 00:00:00+00:00  62442.152344  62099.248926  Espera\n",
      "516  2024-10-15 00:00:00+00:00  64809.195312  62077.911621  Espera\n",
      "517  2024-10-16 00:00:00+00:00  66758.726562  62063.699941  Espera\n",
      "518  2024-10-17 00:00:00+00:00  66647.390625  62048.812559  Espera\n",
      "519  2024-10-18 00:00:00+00:00  67177.820312  62044.148184  Espera\n",
      "520  2024-10-19 00:00:00+00:00  68024.640625  62061.338418  Espera\n",
      "521  2024-10-20 00:00:00+00:00  68105.718750  62079.067520  Espera\n",
      "522  2024-10-21 00:00:00+00:00  66829.851562  62087.647793  Espera\n",
      "523  2024-10-22 00:00:00+00:00  66581.367188  62090.497246  Espera\n",
      "524  2024-10-23 00:00:00+00:00  65188.035156  62078.978828  Espera\n",
      "525  2024-10-24 00:00:00+00:00  66454.101562  62066.991172  Espera\n",
      "526  2024-10-25 00:00:00+00:00  65521.792969  62049.278926  Espera\n",
      "527  2024-10-26 00:00:00+00:00  66360.593750  62040.017285  Espera\n",
      "528  2024-10-27 00:00:00+00:00  66847.226562  62036.735605  Espera\n",
      "529  2024-10-28 00:00:00+00:00  67535.132812  62026.552207  Espera\n",
      "530  2024-10-29 00:00:00+00:00  69729.914062  62048.927598  Espera\n",
      "531  2024-10-30 00:00:00+00:00  71411.734375  62101.390742  Espera\n"
     ]
    }
   ],
   "source": [
    "# DataFrame para armazenar os resultados\n",
    "results = []\n",
    "\n",
    "# Itera sobre cada ativo, executando o backtest e armazenando os resultados\n",
    "for ticker in tickers:\n",
    "    try: \n",
    "        end_date = pd.to_datetime(\"today\").strftime(\"%Y-%m-%d\")\n",
    "        start_date = (pd.to_datetime(\"today\") - pd.DateOffset(years=2)).strftime(\"%Y-%m-%d\")\n",
    "\n",
    "        backtest = BacktestMA200(\n",
    "            ticker, start=start_date, end=end_date, file_path=f\"data/{ticker}.csv\"\n",
    "        )\n",
    "        backtest.load_data()\n",
    "\n",
    "        df = backtest.data\n",
    "\n",
    "        print(df.tail(20))\n",
    "        # print(df.describe())\n",
    "\n",
    "        backtest.run_backtest()\n",
    "        results.append(backtest.get_results())\n",
    "    except Exception as e:\n",
    "        print(f\"Erro ao processar {ticker}: {e}\")\n"
   ]
  }
 ],
 "metadata": {
  "kernelspec": {
   "display_name": ".venv",
   "language": "python",
   "name": "python3"
  },
  "language_info": {
   "codemirror_mode": {
    "name": "ipython",
    "version": 3
   },
   "file_extension": ".py",
   "mimetype": "text/x-python",
   "name": "python",
   "nbconvert_exporter": "python",
   "pygments_lexer": "ipython3",
   "version": "3.12.3"
  }
 },
 "nbformat": 4,
 "nbformat_minor": 2
}
