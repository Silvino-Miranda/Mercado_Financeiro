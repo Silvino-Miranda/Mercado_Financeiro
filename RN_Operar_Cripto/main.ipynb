{
 "cells": [
  {
   "cell_type": "code",
   "execution_count": 1,
   "metadata": {},
   "outputs": [],
   "source": [
    "from src.utils.data_preprocessing import DataPreprocessor\n",
    "from src.models.lstm_model import LSTMModel\n",
    "\n",
    "import yfinance as yf\n",
    "import pandas as pd\n",
    "import os\n",
    "from datetime import datetime, timedelta"
   ]
  },
  {
   "cell_type": "code",
   "execution_count": 15,
   "metadata": {},
   "outputs": [],
   "source": [
    "class DataLoader:\n",
    "    def __init__(\n",
    "        self,\n",
    "        symbol=\"BTC-USD\",\n",
    "        start_date=\"2015-01-01\",\n",
    "        end_date=None,\n",
    "        interval=\"1h\",\n",
    "        data_dir=\"data\",\n",
    "    ):\n",
    "        self.symbol = symbol\n",
    "        self.start_date = start_date\n",
    "        self.end_date = end_date if end_date else datetime.now().strftime(\"%Y-%m-%d\")\n",
    "        self.interval = interval\n",
    "        self.data_dir = data_dir\n",
    "\n",
    "        # Criar o nome do arquivo com base no símbolo e intervalo de tempo\n",
    "        self.filename = f\"{self.symbol}_{self.start_date}_to_{self.end_date}_{self.interval}\".replace(\n",
    "            \"/\", \"-\"\n",
    "        )\n",
    "        self.filepath = os.path.join(self.data_dir, self.filename)\n",
    "\n",
    "    def download_data(self):\n",
    "        # Verificar se end_date não está no futuro\n",
    "        today = datetime.now().strftime(\"%Y-%m-%d\")\n",
    "        if self.end_date > today:\n",
    "            print(\"A data de término está no futuro. Ajustando para a data atual.\")\n",
    "            self.end_date = today\n",
    "\n",
    "        # Ajustar intervalo para dados de 1 hora\n",
    "        if self.interval == \"1h\":\n",
    "            max_days = 729\n",
    "            end_datetime = datetime.strptime(self.end_date, \"%Y-%m-%d\")\n",
    "            start_datetime = end_datetime - timedelta(days=max_days)\n",
    "            self.start_date = start_datetime.strftime(\"%Y-%m-%d\")\n",
    "\n",
    "        print(\n",
    "            f\"Baixando dados para {self.symbol} de {self.start_date} até {self.end_date} com intervalo de {self.interval}...\"\n",
    "        )\n",
    "\n",
    "        df = yf.download(self.symbol, period=\"1y\", interval=\"1d\")\n",
    "  \n",
    "        # df = yf.download(\n",
    "        #     self.symbol,\n",
    "        #     start=self.start_date,\n",
    "        #     end=self.end_date,\n",
    "        #     interval=self.interval,\n",
    "        # )\n",
    "\n",
    "\n",
    "        print(df.head())\n",
    "\n",
    "        # Resetar o índice para remover 'Date' do índice e torná-lo uma coluna normal\n",
    "        df.reset_index(inplace=True)\n",
    "\n",
    "        # Remover possíveis MultiIndex nas colunas\n",
    "        if isinstance(df.columns, pd.MultiIndex):\n",
    "            df.columns = df.columns.get_level_values(-1)\n",
    "\n",
    "        print(df.columns)\n",
    "        print(df.head())\n",
    "        # Renomear as colunas\n",
    "        # df.columns = [\"Date\", \"Close\", \"High\", \"Low\", \"Open\", \"Volume\"]\n",
    "\n",
    "        # Salvar os dados em um arquivo CSV\n",
    "        data_save = DataSave(df)\n",
    "        data_save.save_data(self.filepath)  # Passa o filepath como argumento\n",
    "        print(f\"Download concluído e dados salvos em {self.filepath}.\")\n",
    "\n",
    "        return df"
   ]
  },
  {
   "cell_type": "code",
   "execution_count": null,
   "metadata": {},
   "outputs": [],
   "source": [
    "symbol = \"BTC-USD\"\n",
    "start_date = \"2024-01-01\"  # Ajuste a data de início conforme necessário\n",
    "interval = \"1d\"  # Pode ser '1d' para diário ou '1h' para horário\n",
    "\n",
    "# Carregar os dados com indicadores técnicos já calculados\n",
    "data_loader = DataLoader(symbol=symbol, start_date=start_date, interval=interval)\n",
    "df = data_loader.download_data()\n",
    "\n",
    "df.head()"
   ]
  },
  {
   "cell_type": "code",
   "execution_count": null,
   "metadata": {},
   "outputs": [],
   "source": [
    "data_save = DataSave(df)\n",
    "data_save.save_data(self.filepath)  # Passa o filepath como argumento\n",
    "print(f\"Download concluído e dados salvos em {self.filepath}.\")"
   ]
  },
  {
   "cell_type": "code",
   "execution_count": null,
   "metadata": {},
   "outputs": [],
   "source": [
    "# Carregar o histórico salvo\n",
    "capital_history = pd.read_csv(\"./data/BTC-USD_2024-01-01_to_2024-10-25_1d.csv\", sep=\";\")\n",
    "\n",
    "# mostrar os dados\n",
    "capital_history.head()"
   ]
  },
  {
   "cell_type": "code",
   "execution_count": null,
   "metadata": {},
   "outputs": [],
   "source": [
    "# mostrar os dados\n",
    "capital_history"
   ]
  },
  {
   "cell_type": "code",
   "execution_count": null,
   "metadata": {},
   "outputs": [],
   "source": [
    "# Plotar o gráfico de evolução do capital\n",
    "plt.figure(figsize=(16, 8))\n",
    "plt.plot(capital_history[\"Capital\"], label=\"Capital ao Longo do Tempo\")\n",
    "plt.title(\"Evolução do Capital\")\n",
    "plt.xlabel(\"Período\")\n",
    "plt.ylabel(\"Capital em USD\")\n",
    "plt.legend()\n",
    "plt.show()"
   ]
  },
  {
   "cell_type": "code",
   "execution_count": 2,
   "metadata": {},
   "outputs": [
    {
     "name": "stdout",
     "output_type": "stream",
     "text": [
      "MetaTrader5 package author:  MetaQuotes Ltd.\n",
      "MetaTrader5 package version:  5.0.4424\n",
      "initialize() failed, error code = (-2, 'Terminal: Invalid params')\n"
     ]
    },
    {
     "ename": "",
     "evalue": "",
     "output_type": "error",
     "traceback": [
      "\u001b[1;31mThe Kernel crashed while executing code in the current cell or a previous cell. \n",
      "\u001b[1;31mPlease review the code in the cell(s) to identify a possible cause of the failure. \n",
      "\u001b[1;31mClick <a href='https://aka.ms/vscodeJupyterKernelCrash'>here</a> for more info. \n",
      "\u001b[1;31mView Jupyter <a href='command:jupyter.viewOutput'>log</a> for further details."
     ]
    }
   ],
   "source": []
  },
  {
   "cell_type": "code",
   "execution_count": null,
   "metadata": {},
   "outputs": [],
   "source": [
    "# set time zone to UTC\n",
    "timezone = pytz.timezone(\"Etc/UTC\")\n",
    "# create 'datetime' objects in UTC time zone to avoid the implementation of a local time zone offset\n",
    "utc_from = datetime(2020, 1, 10, tzinfo=timezone)\n",
    "utc_to = datetime(2020, 1, 11, hour = 13, tzinfo=timezone)\n",
    "# get bars from USDJPY M5 within the interval of 2020.01.10 00:00 - 2020.01.11 13:00 in UTC time zone\n",
    "rates = mt5.copy_rates_range(\"PETR4\", mt5.TIMEFRAME_M5, utc_from, utc_to)\n",
    " \n",
    "\n",
    "print(rates)\n",
    "# shut down connection to the MetaTrader 5 terminal\n",
    "mt5.shutdown()\n",
    " \n",
    "# display each element of obtained data in a new line\n",
    "print(\"Display obtained data 'as is'\")\n",
    "counter=0\n",
    "for rate in rates:\n",
    "    counter+=1\n",
    "    if counter<=10:\n",
    "        print(rate)\n",
    " \n",
    "# create DataFrame out of the obtained data\n",
    "rates_frame = pd.DataFrame(rates)\n",
    "# convert time in seconds into the 'datetime' format\n",
    "rates_frame['time']=pd.to_datetime(rates_frame['time'], unit='s')\n",
    " \n",
    "# display data\n",
    "print(\"\\nDisplay dataframe with data\")\n",
    "print(rates_frame.head(10))"
   ]
  }
 ],
 "metadata": {
  "kernelspec": {
   "display_name": ".venv",
   "language": "python",
   "name": "python3"
  },
  "language_info": {
   "codemirror_mode": {
    "name": "ipython",
    "version": 3
   },
   "file_extension": ".py",
   "mimetype": "text/x-python",
   "name": "python",
   "nbconvert_exporter": "python",
   "pygments_lexer": "ipython3",
   "version": "3.12.3"
  }
 },
 "nbformat": 4,
 "nbformat_minor": 2
}
